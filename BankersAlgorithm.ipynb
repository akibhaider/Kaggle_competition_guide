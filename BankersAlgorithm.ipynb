{
  "nbformat": 4,
  "nbformat_minor": 0,
  "metadata": {
    "colab": {
      "provenance": [],
      "include_colab_link": true
    },
    "kernelspec": {
      "name": "python3",
      "display_name": "Python 3"
    },
    "language_info": {
      "name": "python"
    }
  },
  "cells": [
    {
      "cell_type": "markdown",
      "metadata": {
        "id": "view-in-github",
        "colab_type": "text"
      },
      "source": [
        "<a href=\"https://colab.research.google.com/github/akibhaider/Kaggle_competition_guide/blob/main/BankersAlgorithm.ipynb\" target=\"_parent\"><img src=\"https://colab.research.google.com/assets/colab-badge.svg\" alt=\"Open In Colab\"/></a>"
      ]
    },
    {
      "cell_type": "code",
      "source": [
        "# from google.colab import drive\n",
        "# drive.mount('/content/drive')\n",
        "import csv\n",
        "import sys\n",
        "import numpy as np\n",
        "from collections import defaultdict, deque\n",
        "import pandas as pd\n",
        "import itertools\n",
        "import os"
      ],
      "metadata": {
        "id": "zwnqLXNMcuC6"
      },
      "execution_count": 64,
      "outputs": []
    },
    {
      "cell_type": "code",
      "execution_count": 65,
      "metadata": {
        "id": "H3JipMoGiZlL",
        "colab": {
          "base_uri": "https://localhost:8080/"
        },
        "outputId": "5291ab13-05e5-4b8d-d2c7-35de5fcc0c77"
      },
      "outputs": [
        {
          "output_type": "stream",
          "name": "stdout",
          "text": [
            "Columns in dataset: ['PID', 'Allocation_A', 'Allocation_C', 'Allocation_B', 'Max_B', 'Max_C', 'Available_A', 'Available_B', 'Available_C', 'Need_A', 'Need_B', 'Need_C']\n"
          ]
        }
      ],
      "source": [
        "import csv\n",
        "import sys\n",
        "import numpy as np\n",
        "from collections import defaultdict, deque\n",
        "import pandas as pd\n",
        "import itertools\n",
        "import os\n",
        "\n",
        "# from google.colab import drive\n",
        "# drive.mount(\"/content/drive\")\n",
        "# file_path = \"/content/drive/MyDrive/Dataset_academics_learn/input0.csv\"\n",
        "# file_path = \"/content/drive/MyDrive/Dataset_academics_learn/input1.csv\" # No Available one resource check (Deadlock)\n",
        "# file_path = \"/content/drive/MyDrive/Dataset_academics_learn/input2.csv\" # Columns are interchabged, but consistent values check\n",
        "# file_path = \"/content/drive/MyDrive/Dataset_academics_learn/input3.csv\" #Inconconsisten number of values in columns (ShapeError)\n",
        "file_path = \"/content/drive/MyDrive/Dataset_academics_learn/input4.csv\" # Max column not added, make it dynamically at runtime\n",
        "\n",
        "\n",
        "# d = pd.read_csv(file_path, sep='\\t')\n",
        "# d = pd.read_csv(file_path, sep='\\t', header=0)  # Automatically sets the first row as headers\n",
        "# d = d.drop(0).reset_index(drop=True)\n",
        "\n",
        "df = pd.read_csv(file_path, header=None)\n",
        "d=df[0].str.split(\"\\t\",expand=True)\n",
        "d.columns = d.iloc[0]\n",
        "d = d.drop(0).reset_index(drop=True)\n",
        "\n",
        "d.columns = d.columns.str.strip() ### Stripping spaces from column names\n",
        "\n",
        "print(\"Columns in dataset:\", d.columns.tolist()) ### testing column names"
      ]
    },
    {
      "cell_type": "code",
      "source": [
        "try:\n",
        "    # Check for 'PID' column\n",
        "    if 'PID' in d.columns:\n",
        "        process = d['PID']\n",
        "        PID = process.to_numpy()\n",
        "    else:\n",
        "        raise ValueError(\"Error: 'PID' column not found!\")\n",
        "\n",
        "    # Extract Allocation matrix\n",
        "    try:\n",
        "        allocation_columns = d.filter(regex=\"^Allocation_\")\n",
        "        allocation_matrix = allocation_columns.replace('-', 0).astype(int).to_numpy()\n",
        "    except Exception as e:\n",
        "        raise ValueError(\"Error in Allocation matrix: \" + str(e))\n",
        "\n",
        "    # Extract Need matrix\n",
        "    try:\n",
        "        Need_columns = d.filter(regex=\"^Need_\")\n",
        "        Need_matrix = Need_columns.replace('-', 0).astype(int).to_numpy()\n",
        "    except Exception as e:\n",
        "        raise ValueError(\"Error in Need matrix: \" + str(e))\n",
        "\n",
        "    # Extract Max matrix\n",
        "    try:\n",
        "        Max_columns = d.filter(regex=\"^Max_\")\n",
        "        Max_matrix = Max_columns.replace('-', 0).astype(int).to_numpy()\n",
        "    except Exception as e:\n",
        "        print(\"Max matrix missing. Attempting to reconstruct...\")\n",
        "        if Need_matrix.shape == allocation_matrix.shape:\n",
        "            Max_matrix = Need_matrix + allocation_matrix\n",
        "        else:\n",
        "            raise ValueError(\"Error: Unable to reconstruct Max matrix due to shape mismatch.\")\n",
        "\n",
        "    # Extract Available matrix\n",
        "    try:\n",
        "        Available_columns = d.filter(regex=\"^Available_\")\n",
        "        row_to_extract = Available_columns.iloc[0]\n",
        "        Available_matrix = row_to_extract.replace('-', 0).astype(int).to_numpy()\n",
        "    except Exception as e:\n",
        "        raise ValueError(\"Error in Available matrix: \" + str(e))\n",
        "\n",
        "    # Validate file format\n",
        "    if allocation_matrix.shape == Need_matrix.shape == Max_matrix.shape:\n",
        "        if Need_matrix.shape[1] == Available_matrix.shape[0]:\n",
        "            print(\"Valid File Format\")\n",
        "        else:\n",
        "            print(\"Invalid File Format: Column mismatch in Need and Available matrix\")\n",
        "    else:\n",
        "        print(\"Invalid File Format: Shape mismatch in Allocation, Need, and Max matrices\")\n",
        "\n",
        "except ValueError as ve:\n",
        "    print(ve)\n",
        "except Exception as e:\n",
        "    print(\"Unexpected error:\", str(e))"
      ],
      "metadata": {
        "colab": {
          "base_uri": "https://localhost:8080/"
        },
        "outputId": "3f2b7737-c234-4e2b-cf2e-a5119580e2a3",
        "id": "BOK5MEuOLZN4"
      },
      "execution_count": 66,
      "outputs": [
        {
          "output_type": "stream",
          "name": "stdout",
          "text": [
            "Invalid File Format: Shape mismatch in Allocation, Need, and Max matrices\n"
          ]
        }
      ]
    },
    {
      "cell_type": "code",
      "source": [
        "def find_safe_sequences(Need_matrix, Available_matrix, Allocation_matrix, processID, finish, work, safe_sequence, all_sequences):\n",
        "    num_processes = len(processID)\n",
        "    allocated = False\n",
        "    for i in range(num_processes):\n",
        "        if not finish[i] and all(Need_matrix[i] <= work):\n",
        "            temp_work = work.copy()\n",
        "            temp_work += Allocation_matrix[i]\n",
        "            finish[i] = True\n",
        "            safe_sequence.append(processID[i])\n",
        "            find_safe_sequences(Need_matrix, temp_work, Allocation_matrix, processID, finish, temp_work, safe_sequence, all_sequences)\n",
        "            finish[i] = False\n",
        "            safe_sequence.pop()\n",
        "            allocated = True\n",
        "    if len(safe_sequence) == num_processes:\n",
        "        all_sequences.append(safe_sequence.copy())\n",
        "\n",
        "def bankers_algorithm_all_sequences(Need_matrix, Available_matrix, Allocation_matrix, processID):\n",
        "    num_processes, num_resources = Need_matrix.shape\n",
        "    finish = np.zeros(num_processes, dtype=bool)\n",
        "    work = Available_matrix.copy()\n",
        "    all_sequences = []\n",
        "    print(\"\\n🟢 Initial Available Resources:\", work)\n",
        "    find_safe_sequences(Need_matrix, work, Allocation_matrix, processID, finish, work, [], all_sequences)\n",
        "    if all_sequences:\n",
        "        print(\"\\n All possible safe sequences are:\")\n",
        "        print(\"-------------------------------------\")\n",
        "        for i, sequence in enumerate(all_sequences):\n",
        "          if i < 9:\n",
        "              print(\"| \" + f\"{i + 1:02}:    {' => '.join(sequence)}\" + \" |\")\n",
        "          else:\n",
        "              print(\"| \" + f\"{i + 1}:    {' => '.join(sequence)}\" + \" |\")\n",
        "          print(\"-------------------------------------\")\n",
        "    else:\n",
        "        print(\"\\n❌ No safe sequence found. Deadlock Occurred\")\n",
        "    return all_sequences\n",
        "\n"
      ],
      "metadata": {
        "id": "TPuE52KkLEXZ"
      },
      "execution_count": 67,
      "outputs": []
    },
    {
      "cell_type": "code",
      "source": [
        "if(x==1):\n",
        "  all_safe_sequences = bankers_algorithm_all_sequences(Need_matrix, Available_matrix, allocation_matrix, PID)"
      ],
      "metadata": {
        "colab": {
          "base_uri": "https://localhost:8080/"
        },
        "id": "Q2dSFLUSVnxg",
        "outputId": "2f967bd8-fbf1-40e7-8496-2c7f8d6e8bfd"
      },
      "execution_count": 69,
      "outputs": [
        {
          "output_type": "stream",
          "name": "stdout",
          "text": [
            "\n",
            "🟢 Initial Available Resources: [3 3 2]\n",
            "\n",
            " All possible safe sequences are:\n",
            "-------------------------------------\n",
            "| 01:    P1 => P3 => P0 => P2 => P4 |\n",
            "-------------------------------------\n",
            "| 02:    P1 => P3 => P0 => P4 => P2 |\n",
            "-------------------------------------\n",
            "| 03:    P1 => P3 => P2 => P0 => P4 |\n",
            "-------------------------------------\n",
            "| 04:    P1 => P3 => P2 => P4 => P0 |\n",
            "-------------------------------------\n",
            "| 05:    P1 => P3 => P4 => P0 => P2 |\n",
            "-------------------------------------\n",
            "| 06:    P1 => P3 => P4 => P2 => P0 |\n",
            "-------------------------------------\n",
            "| 07:    P1 => P4 => P3 => P0 => P2 |\n",
            "-------------------------------------\n",
            "| 08:    P1 => P4 => P3 => P2 => P0 |\n",
            "-------------------------------------\n",
            "| 09:    P3 => P1 => P0 => P2 => P4 |\n",
            "-------------------------------------\n",
            "| 10:    P3 => P1 => P0 => P4 => P2 |\n",
            "-------------------------------------\n",
            "| 11:    P3 => P1 => P2 => P0 => P4 |\n",
            "-------------------------------------\n",
            "| 12:    P3 => P1 => P2 => P4 => P0 |\n",
            "-------------------------------------\n",
            "| 13:    P3 => P1 => P4 => P0 => P2 |\n",
            "-------------------------------------\n",
            "| 14:    P3 => P1 => P4 => P2 => P0 |\n",
            "-------------------------------------\n",
            "| 15:    P3 => P4 => P1 => P0 => P2 |\n",
            "-------------------------------------\n",
            "| 16:    P3 => P4 => P1 => P2 => P0 |\n",
            "-------------------------------------\n"
          ]
        }
      ]
    },
    {
      "cell_type": "code",
      "source": [
        "def bankers_algorithm(Need_matrix, Available_matrix, Allocation_matrix, Max_matrix, processID):\n",
        "    num_processes, num_resources = Need_matrix.shape\n",
        "    finish = np.zeros(num_processes, dtype=bool)\n",
        "    safe_sequence = []\n",
        "    work = Available_matrix.copy()\n",
        "\n",
        "    print(\"\\n🟢 Initial Available Resources:\", work)\n",
        "\n",
        "    while len(safe_sequence) < num_processes:\n",
        "        allocated = False\n",
        "        for i in range(num_processes):\n",
        "            if not finish[i]:\n",
        "                if all(Need_matrix[i] <= work):\n",
        "                    print(f\"\\n🚀 Process {processID[i]} is executing...\")\n",
        "                    print(f\"🔄 Process {processID[i]} has finished. Releasing resources: {Allocation_matrix[i]}\")\n",
        "                    work += Allocation_matrix[i]\n",
        "                    print(f\"🔽 Updated Available Resources: {work}\")\n",
        "                    finish[i] = True\n",
        "                    safe_sequence.append(processID[i])\n",
        "                    allocated = True\n",
        "                else:\n",
        "                    print(f\"\\n❌ Process {processID[i]} cannot execute (Need: {Need_matrix[i]} > Available: {work})\")\n",
        "\n",
        "        if not allocated:\n",
        "            print(\"\\n⚠️ Deadlock detected! No safe sequence found.\")\n",
        "            return None\n",
        "\n",
        "    print(\"\\n✅ Safe sequence found:\\n\", \" → \".join(safe_sequence))\n",
        "    return safe_sequence\n"
      ],
      "metadata": {
        "id": "-n_UTubXieAn"
      },
      "execution_count": 70,
      "outputs": []
    },
    {
      "cell_type": "code",
      "source": [
        "if x==1:\n",
        "  safe_sequence = bankers_algorithm(Need_matrix, Available_matrix, allocation_matrix, Max_matrix, PID)"
      ],
      "metadata": {
        "id": "Q9SMPDkkieDN",
        "colab": {
          "base_uri": "https://localhost:8080/"
        },
        "outputId": "7c4dfd25-e9d0-4bd5-d317-78dc4bc943ce"
      },
      "execution_count": 71,
      "outputs": [
        {
          "output_type": "stream",
          "name": "stdout",
          "text": [
            "\n",
            "🟢 Initial Available Resources: [3 3 2]\n",
            "\n",
            "❌ Process P0 cannot execute (Need: [7 4 3] > Available: [3 3 2])\n",
            "\n",
            "🚀 Process P1 is executing...\n",
            "🔄 Process P1 has finished. Releasing resources: [2 0 0]\n",
            "🔽 Updated Available Resources: [5 3 2]\n",
            "\n",
            "❌ Process P2 cannot execute (Need: [6 0 0] > Available: [5 3 2])\n",
            "\n",
            "🚀 Process P3 is executing...\n",
            "🔄 Process P3 has finished. Releasing resources: [2 1 1]\n",
            "🔽 Updated Available Resources: [7 4 3]\n",
            "\n",
            "🚀 Process P4 is executing...\n",
            "🔄 Process P4 has finished. Releasing resources: [0 0 2]\n",
            "🔽 Updated Available Resources: [7 4 5]\n",
            "\n",
            "🚀 Process P0 is executing...\n",
            "🔄 Process P0 has finished. Releasing resources: [0 1 0]\n",
            "🔽 Updated Available Resources: [7 5 5]\n",
            "\n",
            "🚀 Process P2 is executing...\n",
            "🔄 Process P2 has finished. Releasing resources: [3 0 2]\n",
            "🔽 Updated Available Resources: [10  5  7]\n",
            "\n",
            "✅ Safe sequence found:\n",
            " P1 → P3 → P4 → P0 → P2\n"
          ]
        }
      ]
    }
  ]
}